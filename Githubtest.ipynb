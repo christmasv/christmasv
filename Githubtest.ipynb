{
  "nbformat": 4,
  "nbformat_minor": 0,
  "metadata": {
    "colab": {
      "name": "Githubtest.ipynb",
      "provenance": [],
      "toc_visible": true,
      "authorship_tag": "ABX9TyMieXU6vFxNenjxiUZHqgv4",
      "include_colab_link": true
    },
    "kernelspec": {
      "name": "python3",
      "display_name": "Python 3"
    },
    "language_info": {
      "name": "python"
    }
  },
  "cells": [
    {
      "cell_type": "markdown",
      "metadata": {
        "id": "view-in-github",
        "colab_type": "text"
      },
      "source": [
        "<a href=\"https://colab.research.google.com/github/christmasv/christmasv/blob/main/Githubtest.ipynb\" target=\"_parent\"><img src=\"https://colab.research.google.com/assets/colab-badge.svg\" alt=\"Open In Colab\"/></a>"
      ]
    },
    {
      "cell_type": "code",
      "execution_count": null,
      "metadata": {
        "id": "53rJ-x99DmEv"
      },
      "outputs": [],
      "source": [
        ""
      ]
    },
    {
      "cell_type": "markdown",
      "source": [
        "# Prueba para Github\n",
        "\n"
      ],
      "metadata": {
        "id": "sUV7hUveD_9i"
      }
    }
  ]
}